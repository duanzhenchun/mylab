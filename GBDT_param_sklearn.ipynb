{
 "cells": [
  {
   "cell_type": "code",
   "execution_count": 2,
   "metadata": {
    "collapsed": true
   },
   "outputs": [],
   "source": [
    "import pandas as pd\n",
    "import numpy as np\n",
    "from sklearn.ensemble import GradientBoostingClassifier, RandomForestClassifier\n",
    "from sklearn import cross_validation, metrics\n",
    "from sklearn.grid_search import GridSearchCV\n",
    "\n",
    "import matplotlib.pylab as plt\n",
    "%matplotlib inline"
   ]
  },
  {
   "cell_type": "code",
   "execution_count": 4,
   "metadata": {
    "collapsed": false
   },
   "outputs": [
    {
     "data": {
      "text/plain": [
       "0    19680\n",
       "1      320\n",
       "Name: Disbursed, dtype: int64"
      ]
     },
     "execution_count": 4,
     "metadata": {},
     "output_type": "execute_result"
    }
   ],
   "source": [
    "# 我们把解压的数据用下面的代码载入，顺便看看数据的类别分布。\n",
    "train = pd.read_csv('/Users/wangzhiguo/Downloads/train_modified.csv')\n",
    "target='Disbursed' # Disbursed的值就是二元分类的输出\n",
    "IDcol = 'ID'\n",
    "train['Disbursed'].value_counts() "
   ]
  },
  {
   "cell_type": "code",
   "execution_count": 5,
   "metadata": {
    "collapsed": true
   },
   "outputs": [],
   "source": [
    "# 选择好样本特征和类别输出\n",
    "x_columns = [x for x in train.columns if x not in [target, IDcol]]\n",
    "X = train[x_columns]\n",
    "y = train['Disbursed']"
   ]
  },
  {
   "cell_type": "code",
   "execution_count": 7,
   "metadata": {
    "collapsed": false
   },
   "outputs": [
    {
     "name": "stdout",
     "output_type": "stream",
     "text": [
      "0.98005\n",
      "AUC Score (Train): 0.999833\n"
     ]
    }
   ],
   "source": [
    "# http://www.cnblogs.com/pinard/p/6160412.html\n",
    "# try RF\n",
    "rf0 = RandomForestClassifier(oob_score=True, random_state=10)\n",
    "rf0.fit(X,y)\n",
    "print rf0.oob_score_\n",
    "y_predprob = rf0.predict_proba(X)[:,1]\n",
    "print \"AUC Score (Train): %f\" % metrics.roc_auc_score(y, y_predprob)"
   ]
  },
  {
   "cell_type": "code",
   "execution_count": null,
   "metadata": {
    "collapsed": true
   },
   "outputs": [],
   "source": [
    "param_test2 = {'max_depth':range(3,14,2), 'min_samples_split':range(50,201,20)}\n",
    "gsearch2 = GridSearchCV(estimator = RandomForestClassifier(n_estimators= 60, \n",
    "                                  min_samples_leaf=20,max_features='sqrt' ,oob_score=True, random_state=10),\n",
    "   param_grid = param_test2, scoring='roc_auc',iid=False, cv=5)\n",
    "gsearch2.fit(X,y)\n",
    "gsearch2.grid_scores_, gsearch2.best_params_, gsearch2.best_score_"
   ]
  },
  {
   "cell_type": "code",
   "execution_count": 9,
   "metadata": {
    "collapsed": false
   },
   "outputs": [
    {
     "name": "stdout",
     "output_type": "stream",
     "text": [
      "0.984\n"
     ]
    }
   ],
   "source": [
    "rf2 = RandomForestClassifier(n_estimators= 60, max_depth=13, min_samples_split=120,\n",
    "                                  min_samples_leaf=20,max_features=7 ,oob_score=True, random_state=10)\n",
    "rf2.fit(X,y)\n",
    "print rf2.oob_score_"
   ]
  },
  {
   "cell_type": "code",
   "execution_count": null,
   "metadata": {
    "collapsed": true
   },
   "outputs": [],
   "source": []
  },
  {
   "cell_type": "code",
   "execution_count": 8,
   "metadata": {
    "collapsed": false
   },
   "outputs": [
    {
     "name": "stdout",
     "output_type": "stream",
     "text": [
      "Accuracy : 0.9852\n",
      "AUC Score (Train): 0.900531\n"
     ]
    }
   ],
   "source": [
    "# # http://www.cnblogs.com/pinard/p/6143927.html\n",
    "# first try GBDT\n",
    "gbm0 = GradientBoostingClassifier(random_state=10)\n",
    "gbm0.fit(X,y)\n",
    "y_pred = gbm0.predict(X)\n",
    "y_predprob = gbm0.predict_proba(X)[:,1]\n",
    "print \"Accuracy : %.4g\" % metrics.accuracy_score(y.values, y_pred)\n",
    "print \"AUC Score (Train): %f\" % metrics.roc_auc_score(y, y_predprob)"
   ]
  },
  {
   "cell_type": "code",
   "execution_count": 7,
   "metadata": {
    "collapsed": false
   },
   "outputs": [
    {
     "data": {
      "text/plain": [
       "([mean: 0.81270, std: 0.01969, params: {'n_estimators': 20},\n",
       "  mean: 0.81343, std: 0.01987, params: {'n_estimators': 30},\n",
       "  mean: 0.81423, std: 0.01975, params: {'n_estimators': 40},\n",
       "  mean: 0.81393, std: 0.02079, params: {'n_estimators': 50},\n",
       "  mean: 0.81546, std: 0.02035, params: {'n_estimators': 60},\n",
       "  mean: 0.81434, std: 0.01936, params: {'n_estimators': 70},\n",
       "  mean: 0.81389, std: 0.02073, params: {'n_estimators': 80}],\n",
       " {'n_estimators': 60},\n",
       " 0.81546343051321135)"
      ]
     },
     "execution_count": 7,
     "metadata": {},
     "output_type": "execute_result"
    }
   ],
   "source": [
    "# find best params\n",
    "# 首先我们从步长(learning rate)和迭代次数(n_estimators)入手。\n",
    "# 我们将步长初始值设置为0.1。对于迭代次数进行网格搜索如下：\n",
    "param_test1 = {'n_estimators':range(20,81,10)}\n",
    "gsearch1 = GridSearchCV(estimator = GradientBoostingClassifier(learning_rate=0.1, min_samples_split=300,\n",
    "                                  min_samples_leaf=20,max_depth=8,max_features='sqrt', subsample=0.8,random_state=10), \n",
    "                       param_grid = param_test1, scoring='roc_auc',iid=False,cv=5)\n",
    "gsearch1.fit(X,y)\n",
    "gsearch1.grid_scores_, gsearch1.best_params_, gsearch1.best_score_\n",
    "n_estimators = gsearch1.best_params_['n_estimators']"
   ]
  },
  {
   "cell_type": "code",
   "execution_count": 8,
   "metadata": {
    "collapsed": false
   },
   "outputs": [
    {
     "data": {
      "text/plain": [
       "([mean: 0.81187, std: 0.02071, params: {'min_samples_split': 100, 'max_depth': 3},\n",
       "  mean: 0.81271, std: 0.01990, params: {'min_samples_split': 300, 'max_depth': 3},\n",
       "  mean: 0.81238, std: 0.01937, params: {'min_samples_split': 500, 'max_depth': 3},\n",
       "  mean: 0.80925, std: 0.02051, params: {'min_samples_split': 700, 'max_depth': 3},\n",
       "  mean: 0.81846, std: 0.01843, params: {'min_samples_split': 100, 'max_depth': 5},\n",
       "  mean: 0.81639, std: 0.01800, params: {'min_samples_split': 300, 'max_depth': 5},\n",
       "  mean: 0.81315, std: 0.01898, params: {'min_samples_split': 500, 'max_depth': 5},\n",
       "  mean: 0.81262, std: 0.02090, params: {'min_samples_split': 700, 'max_depth': 5},\n",
       "  mean: 0.81817, std: 0.02014, params: {'min_samples_split': 100, 'max_depth': 7},\n",
       "  mean: 0.82137, std: 0.01733, params: {'min_samples_split': 300, 'max_depth': 7},\n",
       "  mean: 0.81703, std: 0.01773, params: {'min_samples_split': 500, 'max_depth': 7},\n",
       "  mean: 0.81403, std: 0.02354, params: {'min_samples_split': 700, 'max_depth': 7},\n",
       "  mean: 0.80702, std: 0.02640, params: {'min_samples_split': 100, 'max_depth': 9},\n",
       "  mean: 0.80814, std: 0.02703, params: {'min_samples_split': 300, 'max_depth': 9},\n",
       "  mean: 0.81476, std: 0.01973, params: {'min_samples_split': 500, 'max_depth': 9},\n",
       "  mean: 0.81601, std: 0.02576, params: {'min_samples_split': 700, 'max_depth': 9},\n",
       "  mean: 0.81315, std: 0.02473, params: {'min_samples_split': 100, 'max_depth': 11},\n",
       "  mean: 0.81309, std: 0.02696, params: {'min_samples_split': 300, 'max_depth': 11},\n",
       "  mean: 0.81720, std: 0.02418, params: {'min_samples_split': 500, 'max_depth': 11},\n",
       "  mean: 0.81433, std: 0.02674, params: {'min_samples_split': 700, 'max_depth': 11},\n",
       "  mean: 0.80641, std: 0.02324, params: {'min_samples_split': 100, 'max_depth': 13},\n",
       "  mean: 0.81109, std: 0.02664, params: {'min_samples_split': 300, 'max_depth': 13},\n",
       "  mean: 0.81873, std: 0.01622, params: {'min_samples_split': 500, 'max_depth': 13},\n",
       "  mean: 0.81390, std: 0.02324, params: {'min_samples_split': 700, 'max_depth': 13}],\n",
       " {'max_depth': 7, 'min_samples_split': 300},\n",
       " 0.82137242759146323)"
      ]
     },
     "execution_count": 8,
     "metadata": {},
     "output_type": "execute_result"
    }
   ],
   "source": [
    "# find max_depth, min_sample_split\n",
    "param_test2 = {'max_depth':range(3,14,2), 'min_samples_split':range(100,801,200)}\n",
    "gsearch2 = GridSearchCV(estimator = GradientBoostingClassifier(\n",
    "        learning_rate=0.1, n_estimators=n_estimators, min_samples_leaf=20, \n",
    "        max_features='sqrt', subsample=0.8, random_state=10), \n",
    "   param_grid = param_test2, scoring='roc_auc',iid=False, cv=5)\n",
    "gsearch2.fit(X,y)\n",
    "gsearch2.grid_scores_, gsearch2.best_params_, gsearch2.best_score_\n",
    "max_depth = gsearch2.best_params_['max_depth']\n",
    "min_samples_split = gsearch2.best_params_['min_samples_split']"
   ]
  },
  {
   "cell_type": "code",
   "execution_count": 10,
   "metadata": {
    "collapsed": false
   },
   "outputs": [],
   "source": [
    "param_test3 = {'min_samples_split':range(800,1900,200), 'min_samples_leaf':range(60,101,10)}\n",
    "gsearch3 = GridSearchCV(estimator = GradientBoostingClassifier(\n",
    "            learning_rate=0.1, n_estimators=n_estimators, max_depth=max_depth,\n",
    "            max_features='sqrt', subsample=0.8, random_state=10), \n",
    "        param_grid = param_test3, scoring='roc_auc',iid=False, cv=5)\n",
    "gsearch3.fit(X,y)\n",
    "gsearch3.grid_scores_, gsearch3.best_params_, gsearch3.best_score_\n",
    "min_samples_split = gsearch3.best_params_['min_samples_split']\n",
    "min_samples_leaf = gsearch3.best_params_['min_samples_leaf']"
   ]
  },
  {
   "cell_type": "code",
   "execution_count": null,
   "metadata": {
    "collapsed": true
   },
   "outputs": [],
   "source": [
    "gbm1 = GradientBoostingClassifier(learning_rate=0.1, n_estimators=n_estimators,max_depth=7, min_samples_leaf =60, \n",
    "               min_samples_split =1200, max_features='sqrt', subsample=0.8, random_state=10)\n",
    "gbm1.fit(X,y)\n",
    "y_pred = gbm1.predict(X)\n",
    "y_predprob = gbm1.predict_proba(X)[:,1]\n",
    "print \"Accuracy : %.4g\" % metrics.accuracy_score(y.values, y_pred)\n",
    "print \"AUC Score (Train): %f\" % metrics.roc_auc_score(y, y_predprob)"
   ]
  },
  {
   "cell_type": "code",
   "execution_count": 11,
   "metadata": {
    "collapsed": true
   },
   "outputs": [],
   "source": [
    "max_depth = gsearch2.best_params_['max_depth']\n",
    "min_samples_split = gsearch2.best_params_['min_samples_split']"
   ]
  },
  {
   "cell_type": "code",
   "execution_count": null,
   "metadata": {
    "collapsed": true
   },
   "outputs": [],
   "source": []
  }
 ],
 "metadata": {
  "kernelspec": {
   "display_name": "Python 2",
   "language": "python",
   "name": "python2"
  },
  "language_info": {
   "codemirror_mode": {
    "name": "ipython",
    "version": 2
   },
   "file_extension": ".py",
   "mimetype": "text/x-python",
   "name": "python",
   "nbconvert_exporter": "python",
   "pygments_lexer": "ipython2",
   "version": "2.7.12"
  }
 },
 "nbformat": 4,
 "nbformat_minor": 0
}
